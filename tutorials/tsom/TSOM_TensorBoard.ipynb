{
 "cells": [
  {
   "cell_type": "code",
   "execution_count": null,
   "metadata": {},
   "outputs": [],
   "source": [
    "import os\n",
    "import sys\n",
    "import pprint\n",
    "\n",
    "pprint.pprint(sys.path)"
   ]
  },
  {
   "cell_type": "code",
   "execution_count": null,
   "metadata": {},
   "outputs": [],
   "source": [
    "sys.path.append( '/Users/hatanohajime/Desktop/PycharmProjects/flib')\n"
   ]
  },
  {
   "cell_type": "code",
   "execution_count": null,
   "metadata": {},
   "outputs": [],
   "source": [
    "%matplotlib inline\n",
    "from tsom_tf import TSOM2\n",
    "from libs.datasets.artificial.animal import load_data\n",
    "from libs.visualization.tsom.tsom2_viewer import TSOM2_Viewer as TSOM2_V\n",
    "import numpy as np"
   ]
  },
  {
   "cell_type": "code",
   "execution_count": null,
   "metadata": {},
   "outputs": [],
   "source": [
    "X, labels_animal, labels_feature = load_data(retlabel_animal=True, retlabel_feature=True)\n",
    "\n",
    "X = X.reshape((X.shape[0], X.shape[1], 1))\n",
    "\n",
    "tsom = TSOM2(N1=X.shape[0], N2=X.shape[1], observed_dim=1, latent_dim=2, epochs=50, resolution=10, SIGMA_MAX=2.0, SIGMA_MIN=0.2, TAU=50, init='random')\n",
    "tsom.predict(X) \n",
    "comp = TSOM2_V(y=tsom.historyY[-1], winner1=tsom.bmu1_nodes[-1], winner2=tsom.bmu2_nodes[-1],\n",
    "             label1=labels_animal, label2=labels_feature)\n",
    "comp.draw_map()"
   ]
  },
  {
   "cell_type": "code",
   "execution_count": null,
   "metadata": {},
   "outputs": [],
   "source": [
    "X.shape[0]"
   ]
  },
  {
   "cell_type": "code",
   "execution_count": null,
   "metadata": {},
   "outputs": [],
   "source": []
  }
 ],
 "metadata": {
  "kernelspec": {
   "display_name": "Python 2",
   "language": "python",
   "name": "python2"
  },
  "language_info": {
   "codemirror_mode": {
    "name": "ipython",
    "version": 2
   },
   "file_extension": ".py",
   "mimetype": "text/x-python",
   "name": "python",
   "nbconvert_exporter": "python",
   "pygments_lexer": "ipython2",
   "version": "2.7.15"
  }
 },
 "nbformat": 4,
 "nbformat_minor": 2
}
