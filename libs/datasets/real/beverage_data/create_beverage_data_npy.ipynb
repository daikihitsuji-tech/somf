{
 "cells": [
  {
   "cell_type": "code",
   "execution_count": 2,
   "metadata": {},
   "outputs": [],
   "source": [
    "import sys\n",
    "import os\n",
    "\n",
    "import numpy as np"
   ]
  },
  {
   "cell_type": "code",
   "execution_count": 3,
   "metadata": {},
   "outputs": [
    {
     "data": {
      "text/plain": [
       "PosixPath('/Users/miyazakikazuki/somf/libs/datasets/real/beverage_data')"
      ]
     },
     "execution_count": 3,
     "metadata": {},
     "output_type": "execute_result"
    }
   ],
   "source": [
    "from pathlib import Path\n",
    "\n",
    "Path().resolve()"
   ]
  },
  {
   "cell_type": "code",
   "execution_count": 4,
   "metadata": {},
   "outputs": [],
   "source": [
    "def load_data(ret_beverage_label=True,ret_situation_label=False):\n",
    "    dir_name='beverage_data'\n",
    "    file_name='mixiDrinkData_Filter123.txt'\n",
    "    dir_path=os.path.join(os.path.dirname(Path().resolve()),dir_name)#beverage_dataまでのpath\n",
    "    #path to mixiDrinkData2_Filter123.txt\n",
    "    file_path=os.path.join(dir_path,file_name)\n",
    "\n",
    "    temp_data = np.loadtxt(file_path)\n",
    "    x = temp_data.reshape((604, 14, 11))  # reshapeして正しく(回答者,飲料,状況)に形になっているかは未確認\n",
    "\n",
    "    return_objects=[x]\n",
    "\n",
    "    if ret_beverage_label:\n",
    "        label_name='beverage_label.txt'\n",
    "        label_path = os.path.join(dir_path, label_name)\n",
    "        beverage_label = np.genfromtxt(label_path, dtype=str)  # loadtxtだと変な文字が入る可能性があるのでgenfromtxt\n",
    "        return_objects.append(beverage_label)\n",
    "\n",
    "    if ret_situation_label:\n",
    "        label_name='situation_label.txt'\n",
    "        label_path = os.path.join(dir_path, label_name)\n",
    "        situation_label = np.genfromtxt(label_path, dtype=str)  # loadtxtだと変な文字が入る可能性があるのでgenfromtxt\n",
    "        return_objects.append(situation_label)\n",
    "\n",
    "    return return_objects\n"
   ]
  },
  {
   "cell_type": "code",
   "execution_count": 5,
   "metadata": {},
   "outputs": [],
   "source": [
    "def load_data2(ret_beverage_label=True,ret_situation_label=False):\n",
    "    dir_name='beverage_data'\n",
    "    file_name='mixiDrinkData2_Filter123.txt'\n",
    "    dir_path=os.path.join(os.path.dirname(Path().resolve()),dir_name)#beverage_dataまでのpath\n",
    "    #path to mixiDrinkData2_Filter123.txt\n",
    "    file_path=os.path.join(dir_path,file_name)\n",
    "\n",
    "    temp_data = np.loadtxt(file_path)\n",
    "    x = temp_data.reshape((604, 14, 11))  # reshapeして正しく(回答者,飲料,状況)に形になっているかは未確認\n",
    "\n",
    "    return_objects=[x]\n",
    "\n",
    "    if ret_beverage_label:\n",
    "        label_name='beverage_label.txt'\n",
    "        label_path = os.path.join(dir_path, label_name)\n",
    "        beverage_label = np.genfromtxt(label_path, dtype=str)  # loadtxtだと変な文字が入る可能性があるのでgenfromtxt\n",
    "        return_objects.append(beverage_label)\n",
    "\n",
    "    if ret_situation_label:\n",
    "        label_name='situation_label.txt'\n",
    "        label_path = os.path.join(dir_path, label_name)\n",
    "        situation_label = np.genfromtxt(label_path, dtype=str)  # loadtxtだと変な文字が入る可能性があるのでgenfromtxt\n",
    "        return_objects.append(situation_label)\n",
    "\n",
    "    return return_objects\n"
   ]
  },
  {
   "cell_type": "code",
   "execution_count": 11,
   "metadata": {},
   "outputs": [
    {
     "name": "stdout",
     "output_type": "stream",
     "text": [
      "x1_shape (604, 14, 11)\n",
      "x2_shape (604, 14, 11)\n"
     ]
    }
   ],
   "source": [
    "temp_data = np.array(load_data())[0]\n",
    "x1 = temp_data.reshape((604, 14, 11))\n",
    "temp_data = np.array(load_data2())[0]\n",
    "x2 = temp_data.reshape((14, 604, 11)).transpose(1,0,2)\n",
    "\n",
    "np.allclose(x1,x2)\n",
    "print(\"x1_shape\",x1.shape)\n",
    "print(\"x2_shape\",x2.shape)"
   ]
  },
  {
   "cell_type": "code",
   "execution_count": 12,
   "metadata": {},
   "outputs": [],
   "source": [
    "np.save(\"beverage_data\", x1)"
   ]
  },
  {
   "cell_type": "code",
   "execution_count": 13,
   "metadata": {},
   "outputs": [
    {
     "name": "stdout",
     "output_type": "stream",
     "text": [
      "beverage_data.npy            mixiDrinkData2_Filter123.txt\r\n",
      "beverage_label.txt           mixiDrinkData_Filter123.txt\r\n",
      "create_beverage_npy.ipynb    situation_label.txt\r\n"
     ]
    }
   ],
   "source": [
    "!ls"
   ]
  },
  {
   "cell_type": "code",
   "execution_count": 14,
   "metadata": {},
   "outputs": [],
   "source": [
    "x = np.load(\"beverage_data.npy\")"
   ]
  },
  {
   "cell_type": "code",
   "execution_count": 16,
   "metadata": {},
   "outputs": [
    {
     "data": {
      "text/plain": [
       "True"
      ]
     },
     "execution_count": 16,
     "metadata": {},
     "output_type": "execute_result"
    }
   ],
   "source": [
    "np.allclose(x,x1)"
   ]
  },
  {
   "cell_type": "code",
   "execution_count": null,
   "metadata": {},
   "outputs": [],
   "source": []
  }
 ],
 "metadata": {
  "kernelspec": {
   "display_name": "Python 3",
   "language": "python",
   "name": "python3"
  },
  "language_info": {
   "codemirror_mode": {
    "name": "ipython",
    "version": 3
   },
   "file_extension": ".py",
   "mimetype": "text/x-python",
   "name": "python",
   "nbconvert_exporter": "python",
   "pygments_lexer": "ipython3",
   "version": "3.6.8"
  }
 },
 "nbformat": 4,
 "nbformat_minor": 2
}
