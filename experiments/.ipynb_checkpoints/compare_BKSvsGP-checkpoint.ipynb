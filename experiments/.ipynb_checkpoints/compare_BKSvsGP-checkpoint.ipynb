{
 "cells": [
  {
   "cell_type": "code",
   "execution_count": null,
   "metadata": {
    "collapsed": true
   },
   "outputs": [],
   "source": [
    "import numpy as np\n",
    "import scipy.spatial.distance as dist"
   ]
  },
  {
   "cell_type": "code",
   "execution_count": null,
   "metadata": {
    "collapsed": true
   },
   "outputs": [],
   "source": [
    "Zeta = np.linspace(self.Z.min(), self.Z.max(), self.M)\n",
    "Zeta = Zeta[:, np.newaxis]\n",
    "self.history['zeta'][e] = Zeta\n",
    "Dist = dist.cdist(Zeta, self.Z, 'sqeuclidean')\n",
    "H = np.exp(-0.5 * self.gamma*Dist)\n",
    "g = H.sum(axis=1)[:, np.newaxis]\n",
    "self.history['g'][e] = g.ravel()\n",
    "R = H / g\n",
    "self.history['f'][e] = R @ self.X\n",
    "V = R[:,:,np.newaxis]*(self.Z[np.newaxis,:,:] - Zeta[:,np.newaxis,:])#KxNxL\n",
    "Vbar = V.sum(axis=1)[:,np.newaxis,:]#Kx1xL\n",
    "dRdZ = V - R[:,:,np.newaxis]*Vbar#KxNxL\n",
    "dFdZ = np.sum(dRdZ[:,:,:,np.newaxis] * self.X[np.newaxis,:,np.newaxis,:],axis=1)#KxLxD\n",
    "delta_F = np.sum(dFdZ**2,axis=(1,2))#K dim vector\n",
    "self.history['fdelta'][e] = delta_F"
   ]
  }
 ],
 "metadata": {
  "anaconda-cloud": {},
  "kernelspec": {
   "display_name": "Python [conda root]",
   "language": "python",
   "name": "conda-root-py"
  },
  "language_info": {
   "codemirror_mode": {
    "name": "ipython",
    "version": 3
   },
   "file_extension": ".py",
   "mimetype": "text/x-python",
   "name": "python",
   "nbconvert_exporter": "python",
   "pygments_lexer": "ipython3",
   "version": "3.5.2"
  }
 },
 "nbformat": 4,
 "nbformat_minor": 0
}
